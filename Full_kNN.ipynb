{
 "cells": [
  {
   "cell_type": "markdown",
   "metadata": {},
   "source": [
    "# K-Nearest Neighbor"
   ]
  },
  {
   "cell_type": "markdown",
   "metadata": {},
   "source": [
    "In this notebook, we will include all the codes that are needed to make a real classifier algorithm."
   ]
  },
  {
   "cell_type": "markdown",
   "metadata": {},
   "source": [
    "### GUI stuff\n",
    "The following codes are very very important and needed to be processed individually before running an algorithm."
   ]
  },
  {
   "cell_type": "code",
   "execution_count": 1,
   "metadata": {
    "collapsed": false
   },
   "outputs": [],
   "source": [
    "%gui qt"
   ]
  },
  {
   "cell_type": "code",
   "execution_count": 2,
   "metadata": {
    "collapsed": false
   },
   "outputs": [],
   "source": [
    "%gui\n",
    "%gui wx"
   ]
  },
  {
   "cell_type": "code",
   "execution_count": 3,
   "metadata": {
    "collapsed": false
   },
   "outputs": [],
   "source": [
    "import random\n",
    "import numpy as np\n",
    "import matplotlib.pyplot as plt\n",
    "\n",
    "# This will make matplotlib figures show inline.\n",
    "%matplotlib inline  \n",
    "\n",
    "# This will make the notebook reload external python automatically.\n",
    "%load_ext autoreload\n",
    "%autoreload 2"
   ]
  },
  {
   "cell_type": "markdown",
   "metadata": {},
   "source": [
    "The following is for the parameters for plotting:"
   ]
  },
  {
   "cell_type": "code",
   "execution_count": 4,
   "metadata": {
    "collapsed": true
   },
   "outputs": [],
   "source": [
    "plt.rcParams['figure.figsize'] = (10.0, 8.0) \n",
    "plt.rcParams['image.interpolation'] = 'nearest'\n",
    "plt.rcParams['image.cmap'] = 'gray'"
   ]
  },
  {
   "cell_type": "markdown",
   "metadata": {},
   "source": [
    "### Input \n",
    "The following will be used for getting input from the CIFAR-10 dataset."
   ]
  },
  {
   "cell_type": "code",
   "execution_count": 5,
   "metadata": {
    "collapsed": false
   },
   "outputs": [],
   "source": [
    "import cPickle as pickle\n",
    "import numpy as np\n",
    "import os\n",
    "\n",
    "def load_CIFAR_batch(filename):\n",
    "    \"\"\" load a single batch of CIFAR\n",
    "    \"\"\"\n",
    "    with open(filename, 'rb') as f:\n",
    "        # Note that CIFAR-10 dataset is produced with cPickle.\n",
    "        datadict = pickle.load(f) \n",
    "        X = datadict['data']\n",
    "        Y = datadict['labels']\n",
    "        X = X.reshape(10000, 3, 32, 32).transpose(0,2,3,1).astype('float')\n",
    "        Y = np.array(Y)\n",
    "        return X,Y\n",
    "\n",
    "def load_CIFAR10(ROOT):\n",
    "    \"\"\" load all of CIFAR dataset\n",
    "    \"\"\"\n",
    "    xs = []\n",
    "    ys = []\n",
    "    for b in range(1,6):\n",
    "        f = os.path.join(ROOT, 'data_batch_%d' % (b, ))\n",
    "        X, Y = load_CIFAR_batch(f)\n",
    "        xs.append(X)\n",
    "        ys.append(Y)\n",
    "    Xtr = np.concatenate(xs)\n",
    "    Ytr = np.concatenate(ys)\n",
    "    del X,Y\n",
    "    Xte, Yte = load_CIFAR_batch(os.path.join(ROOT, 'test_batch'))\n",
    "    return Xtr, Ytr, Xte, Yte"
   ]
  },
  {
   "cell_type": "markdown",
   "metadata": {
    "collapsed": false
   },
   "source": [
    "** This is the setting for the raw CIFAR-10 directory. **"
   ]
  },
  {
   "cell_type": "code",
   "execution_count": 6,
   "metadata": {
    "collapsed": true
   },
   "outputs": [],
   "source": [
    "cifar10_dir = 'cifar-10-batches-py'"
   ]
  },
  {
   "cell_type": "markdown",
   "metadata": {},
   "source": [
    "Now, we will get the data."
   ]
  },
  {
   "cell_type": "code",
   "execution_count": 7,
   "metadata": {
    "collapsed": false
   },
   "outputs": [],
   "source": [
    "X_train, y_train, X_test, y_test = load_CIFAR10(cifar10_dir)"
   ]
  },
  {
   "cell_type": "markdown",
   "metadata": {},
   "source": [
    "You can change the following code to check the shape of the dataset: "
   ]
  },
  {
   "cell_type": "raw",
   "metadata": {},
   "source": [
    "print 'Training data shape: ', X_train.shape\n",
    "print 'Training labels shape: ', y_train.shape\n",
    "print 'Test data shape: ', X_test.shape\n",
    "print 'Test labels shape: ', y_test.shape"
   ]
  },
  {
   "cell_type": "markdown",
   "metadata": {},
   "source": [
    "### Visualization\n",
    "For this section, we will write code to visualize some random examples from the dataset."
   ]
  },
  {
   "cell_type": "code",
   "execution_count": null,
   "metadata": {
    "collapsed": false
   },
   "outputs": [],
   "source": [
    "# Visualize some examples from the dataset.\n",
    "# We show a few examples of training images from each class.\n",
    "classes = ['plane', 'car', 'bird', 'cat', 'deer', 'dog', 'frog', 'horse', 'ship', 'truck']\n",
    "num_classes = len(classes)\n",
    "samples_per_class = 7\n",
    "\n",
    "for y, cls in enumerate(classes):\n",
    "    idxs = np.flatnonzero(y_train == y)\n",
    "    idxs = np.random.choice(idxs, samples_per_class, replace=False)\n",
    "    for i, idx in enumerate(idxs):\n",
    "        # enumerate by column\n",
    "        plt_idx = i * num_classes + y + 1\n",
    "        plt.subplot(samples_per_class, num_classes, plt_idx)\n",
    "        plt.imshow(X_train[idx].astype('uint8'))\n",
    "        plt.axis('off')\n",
    "        if i == 0:\n",
    "            plt.title(cls)\n",
    "plt.show()"
   ]
  },
  {
   "cell_type": "markdown",
   "metadata": {},
   "source": [
    "### L2 distance classifier \n",
    "In this section, we will use L2 distance as a classifier to classify the input."
   ]
  },
  {
   "cell_type": "code",
   "execution_count": null,
   "metadata": {
    "collapsed": false
   },
   "outputs": [],
   "source": [
    "# We need to subsample the data for more efficient coude execution\n",
    "num_training = 5000\n",
    "mask = range(num_training)\n",
    "X_train = X_train[mask]\n",
    "y_train = y_train[mask]\n",
    "\n",
    "num_test = 500\n",
    "mask = range(num_test)\n",
    "X_test = X_test[mask]\n",
    "y_test = y_test[mask]\n",
    "\n",
    "# Then, we need to reshape the image data into rows.\n",
    "X_train = np.reshape(X_train,(X_train.shape[0], -1))\n",
    "X_test = np.reshape(X_test, (X_test.shape[0], -1))\n",
    "print X_train.shape, X_test.shape"
   ]
  },
  {
   "cell_type": "markdown",
   "metadata": {},
   "source": [
    "We would now like to classify the test data with the kNN classifier. Recall that we can break down this process into two steps: \n",
    "\n",
    "1. First we must compute the distances between all test examples and all train examples. \n",
    "2. Given these distances, for each test example we find the k nearest examples and have them vote for the label\n",
    "\n",
    "Lets begin with computing the distance matrix between all training and test examples. For example, if there are **Ntr** training examples and **Nte** test examples, this stage should result in a **Nte x Ntr** matrix where each element (i,j) is the distance between the i-th test and j-th train example.\n"
   ]
  },
  {
   "cell_type": "code",
   "execution_count": 10,
   "metadata": {
    "collapsed": false
   },
   "outputs": [],
   "source": [
    "import numpy as np\n",
    "\n",
    "class KNearestNeighbor:\n",
    "    \"\"\" a kNN classsifier with L2 distance\n",
    "    \"\"\"\n",
    "    \n",
    "    def __init__(self):\n",
    "        pass\n",
    "    \n",
    "    def train(self, X, y):\n",
    "        \"\"\" Train the classifier. For k-nearest neighbors, \n",
    "            this is just memorizing the training data.\n",
    "            \n",
    "            Input:\n",
    "            X - A num_train x dimension array where each row \n",
    "                represents a single training point.\n",
    "            y - A vector of length num_train, where y[i] is the \n",
    "                label for X[i, :]\n",
    "        \"\"\"\n",
    "        self.X_train = X\n",
    "        self.y_train = y\n",
    "        \n",
    "    def predict(self, X, k=1, num_loops=0):\n",
    "        \"\"\" Predict labels for test data using the classifier.\n",
    "        \n",
    "            Input:\n",
    "            X - A num_test x dimension array where each row represents\n",
    "                a single test point.\n",
    "            k - The number of nearest neighbors that vote for predicte\n",
    "                label.\n",
    "            num_loops - Determines which method to use to compute distances\n",
    "                        between training points and test points.\n",
    "        \n",
    "            Output:\n",
    "            y - A vector of length num_test, where y[i] represents the \n",
    "                predicted label for the test point X[i, :].\n",
    "        \"\"\"\n",
    "        if num_loops == 0:\n",
    "            dists = self.compute_distances_no_loops(X)\n",
    "        elif num_loops == 1:\n",
    "            dists = self.compute_distances_one_loop(X)\n",
    "        elif num_loops == 2:\n",
    "            dists = self.compute_distances_two_loops(X)\n",
    "        else:\n",
    "            raise ValueError('Invalid value %d for num_loops' % num_loops)\n",
    "        return self.predict_labels(dists,k=k)\n",
    "\n",
    "    def compute_distances_two_loops(self, X):\n",
    "        \"\"\" Compute the distance between each test point in X and each \n",
    "            training point in self.X_train using a nested loop over both \n",
    "            the training data and the test data.\n",
    "            \n",
    "            Input:\n",
    "            X - A num_test x dimension array where each row is a test point.\n",
    "            \n",
    "            Output:\n",
    "            dists - A num_test x num_train array where dists[i, j] gives\n",
    "                    the distance between the ith test point and the jth \n",
    "                    training point.\n",
    "        \"\"\"\n",
    "        num_test = X.shape[0]\n",
    "        num_train = self.X_train.shape[0]\n",
    "        dists = np.zeros((num_test,num_train))\n",
    "        for i in xrange(num_test):\n",
    "            for j in xrange(num_train):\n",
    "                dists[i,j] = np.sqrt(np.sum(np.square(X[i,:] - self.X_train[j,:])))\n",
    "        return dists\n",
    "    \n",
    "    def compute_distances_one_loop(self,X):\n",
    "        \"\"\" Same as compute_disances_two_loops; however, we will use just one \n",
    "            loop instead.\n",
    "        \"\"\"\n",
    "        num_test = X.shape[0]\n",
    "        num_train = self.X_train.shape[0]\n",
    "        dists = np.zeros((num_test,num_train))\n",
    "        for i in xrange(num_test):\n",
    "            dists[i,:] = np.sqrt(np.sum(np.square(X[i,:] - self.X_train),axis=1))\n",
    "        return dists\n",
    "    \n",
    "    def compute_distances_no_loops(self,X):\n",
    "        \"\"\" Same as compute_disances_two_loops; however, we will use just one \n",
    "            loop instead.\n",
    "        \"\"\"\n",
    "        X2 = np.dot(X**2,np.ones(self.X_train.shape).T)\n",
    "        XY = np.dot(X,self.X_train.T)\n",
    "        Y2 = np.dot(np.ones(X.shape),self.X_train.T**2)\n",
    "        dists = X2 - 2*XY + Y2\n",
    "        del X2,XY,Y2\n",
    "        return dists\n",
    "    \n",
    "    def predict_labels(self, dists, k=1):\n",
    "        \"\"\" Given a matrix of distances between test points and training \n",
    "            points, predict a label for each test point.\n",
    "            \n",
    "            Input:\n",
    "            dists - A num_test x num_train array where dists[i, j] gives\n",
    "                    the distance between the ith test point and the jth \n",
    "                    training point.\n",
    "            Output:\n",
    "            y - A vector of length num_test where y[i] represents the \n",
    "                predicted label for the ith test point.\n",
    "        \"\"\"\n",
    "        num_test = dists.shape[0]\n",
    "        y_pred = np.zeros(num_test)\n",
    "        for i in xrange(num_test):\n",
    "            # closest_y is a list of length k storing the labels for\n",
    "            # the k nearest neighbors to the ith test points\n",
    "            order = np.argsort(np.array(dists[i,:]))[:k]\n",
    "            closest_y = [self.y_train[y] for y in order]\n",
    "            \n",
    "            hashmap = {}\n",
    "            for y in closest_y:\n",
    "                if y in hashmap.keys():\n",
    "                    hashmap[y] += 1\n",
    "                else:\n",
    "                    hashmap[y] = 1\n",
    "            maxval = -1\n",
    "            maxidx = 1e9\n",
    "            for y in closest_y:\n",
    "                if hashmap[y] > maxval:\n",
    "                    maxval = hashmap[y]\n",
    "                    maxidx = y\n",
    "                elif hashmap[y] == maxval and y < maxidx:\n",
    "                    maxidx = y\n",
    "                    \n",
    "            y_pred[i] = maxidx\n",
    "            del hashmap, order, closest_y\n",
    "        return y_pred"
   ]
  },
  {
   "cell_type": "code",
   "execution_count": null,
   "metadata": {
    "collapsed": false
   },
   "outputs": [],
   "source": [
    "classifier = KNearestNeighbor()\n",
    "classifier.train(X_train, y_train)"
   ]
  },
  {
   "cell_type": "code",
   "execution_count": null,
   "metadata": {
    "collapsed": false
   },
   "outputs": [],
   "source": [
    "dists = classifier.compute_distances_two_loops(X_test)\n",
    "print dists.shape"
   ]
  },
  {
   "cell_type": "code",
   "execution_count": null,
   "metadata": {
    "collapsed": false
   },
   "outputs": [],
   "source": [
    "# Visualize the distance matrix: each row is a single test example\n",
    "# and its distances to trianing examples\n",
    "plt.imshow(dists, interpolation='none')"
   ]
  },
  {
   "cell_type": "markdown",
   "metadata": {},
   "source": [
    "**Inline Question #1:** Notice the structured patterns in the distance matrix. \n",
    "\n",
    "- What is the cause behind the distinctly visible rows? \n",
    "- What causes the columns?"
   ]
  },
  {
   "cell_type": "markdown",
   "metadata": {},
   "source": [
    "**Answer**: \n",
    "- The white row tends to visually imply that single test example is away from others so that it can form its own cluster.\n",
    "- The white column visually shows that paramater is significantly important in distinguishing the examples."
   ]
  },
  {
   "cell_type": "code",
   "execution_count": null,
   "metadata": {
    "collapsed": false
   },
   "outputs": [],
   "source": [
    "y_test_pred = classifier.predict_labels(dists, k=1)\n",
    "\n",
    "num_correct = np.sum(y_test_pred == y_test)\n",
    "accuracy = float(num_correct) / num_test\n",
    "print 'Got %d / %d correct => accuracy: %f' % (num_correct, num_test, accuracy)"
   ]
  },
  {
   "cell_type": "code",
   "execution_count": null,
   "metadata": {
    "collapsed": false
   },
   "outputs": [],
   "source": [
    "# Now lets speed up distance matrix computation by using partial vectorization\n",
    "# with one loop. Implement the function compute_distances_one_loop and run the\n",
    "# code below:\n",
    "dists_one = classifier.compute_distances_one_loop(X_test)\n",
    "\n",
    "# To ensure that our vectorized implementation is correct, we make sure that it\n",
    "# agrees with the naive implementation. There are many ways to decide whether\n",
    "# two matrices are similar; one of the simplest is the Frobenius norm. In case\n",
    "# you haven't seen it before, the Frobenius norm of two matrices is the square\n",
    "# root of the squared sum of differences of all elements; in other words, reshape\n",
    "# the matrices into vectors and compute the Euclidean distance between them.\n",
    "difference = np.linalg.norm(dists - dists_one, ord='fro')\n",
    "print 'Difference was: %f' % (difference, )\n",
    "if difference < 0.001:\n",
    "  print 'Good! The distance matrices are the same'\n",
    "else:\n",
    "  print 'Uh-oh! The distance matrices are different'"
   ]
  },
  {
   "cell_type": "code",
   "execution_count": null,
   "metadata": {
    "collapsed": false
   },
   "outputs": [],
   "source": [
    "# Now we will implement the fully vectorized version inside compute_distance_no_loops\n",
    "# and run the code\n",
    "dists_two = classifier.compute_distances_no_loops(X_test)\n",
    "\n",
    "# check if the distance matrix agrees with the one already computed\n",
    "# difference = np.linalg.norm(dists - dists_two, ord='fro')\n",
    "print 'Difference was: %f' % (difference, )\n",
    "if difference < 0.001:\n",
    "  print 'Good! The distance matrices are the same'\n",
    "else:\n",
    "  print 'Uh-oh! The distance matrices are different'"
   ]
  },
  {
   "cell_type": "code",
   "execution_count": null,
   "metadata": {
    "collapsed": false
   },
   "outputs": [],
   "source": [
    "# Now, let's see how fast the vectorizations are.\n",
    "def time_function(f, *args):\n",
    "    \"\"\" Call a function f with args and return the time (in seconds)\n",
    "        that it took to execute.\n",
    "    \"\"\"\n",
    "    import time\n",
    "    tic = time.time()\n",
    "    f(*args)\n",
    "    toc = time.time()\n",
    "    return toc - tic\n",
    "\n",
    "two_loop_time = time_function(classifier.compute_distances_two_loops, X_test)\n",
    "print 'Two loop version took %f seconds' % two_loop_time\n",
    "\n",
    "one_loop_time = time_function(classifier.compute_distances_one_loop, X_test)\n",
    "print 'One loop version took %f seconds' % one_loop_time\n",
    "\n",
    "no_loop_time = time_function(classifier.compute_distances_no_loops, X_test)\n",
    "print 'No loop version took %f seconds' % no_loop_time"
   ]
  },
  {
   "cell_type": "markdown",
   "metadata": {},
   "source": [
    "### Cross-validation\n",
    "\n",
    "We have implemented the k-Nearest Neighbor classifier but we set the value k = 5 arbitrarily. We will now determine the best value of this hyperparameter with cross-validation."
   ]
  },
  {
   "cell_type": "code",
   "execution_count": 14,
   "metadata": {
    "collapsed": false
   },
   "outputs": [
    {
     "name": "stdout",
     "output_type": "stream",
     "text": [
      "(5, 10000, 3072) (5, 10000)\n",
      "k = 1, accuracy = 0.335800\n",
      "k = 1, accuracy = 0.336100\n",
      "k = 1, accuracy = 0.346900\n",
      "k = 1, accuracy = 0.334600\n",
      "k = 1, accuracy = 0.338300\n",
      "k = 3, accuracy = 0.324400\n",
      "k = 3, accuracy = 0.326100\n",
      "k = 3, accuracy = 0.328000\n",
      "k = 3, accuracy = 0.325200\n",
      "k = 3, accuracy = 0.317800\n",
      "k = 5, accuracy = 0.325500\n",
      "k = 5, accuracy = 0.329700\n",
      "k = 5, accuracy = 0.333600\n",
      "k = 5, accuracy = 0.334000\n",
      "k = 5, accuracy = 0.328300\n",
      "k = 8, accuracy = 0.334000\n",
      "k = 8, accuracy = 0.328300\n",
      "k = 8, accuracy = 0.334100\n",
      "k = 8, accuracy = 0.330700\n",
      "k = 8, accuracy = 0.323000\n",
      "k = 10, accuracy = 0.335800\n",
      "k = 10, accuracy = 0.325200\n",
      "k = 10, accuracy = 0.333000\n",
      "k = 10, accuracy = 0.333200\n",
      "k = 10, accuracy = 0.324300\n",
      "k = 12, accuracy = 0.335200\n",
      "k = 12, accuracy = 0.323600\n",
      "k = 12, accuracy = 0.328100\n",
      "k = 12, accuracy = 0.329400\n",
      "k = 12, accuracy = 0.323900\n",
      "k = 15, accuracy = 0.335200\n",
      "k = 15, accuracy = 0.323500\n",
      "k = 15, accuracy = 0.328400\n",
      "k = 15, accuracy = 0.327300\n",
      "k = 15, accuracy = 0.321500\n",
      "k = 20, accuracy = 0.330700\n",
      "k = 20, accuracy = 0.320400\n",
      "k = 20, accuracy = 0.325700\n",
      "k = 20, accuracy = 0.324800\n",
      "k = 20, accuracy = 0.314500\n",
      "k = 50, accuracy = 0.320300\n",
      "k = 50, accuracy = 0.308900\n",
      "k = 50, accuracy = 0.314900\n",
      "k = 50, accuracy = 0.311500\n",
      "k = 50, accuracy = 0.304200\n",
      "k = 100, accuracy = 0.308400\n",
      "k = 100, accuracy = 0.290200\n",
      "k = 100, accuracy = 0.300400\n",
      "k = 100, accuracy = 0.298900\n",
      "k = 100, accuracy = 0.294600\n"
     ]
    }
   ],
   "source": [
    "num_folds = 5\n",
    "k_choices = [1, 3, 5, 8, 10, 12, 15, 20, 50, 100]\n",
    "\n",
    "# We'll split up the input into num_folds partition to do cross-validation.\n",
    "X_train_folds = np.array(np.array_split(X_train,num_folds))\n",
    "y_train_folds = np.array(np.array_split(y_train,num_folds))\n",
    "\n",
    "print X_train_folds.shape, y_train_folds.shape\n",
    "\n",
    "# A dictionary holding the accuracies for different values of k that we find\n",
    "# when running cross-validation. After running cross-validation,\n",
    "# k_to_accuracies[k] should be a list of length num_folds giving the different\n",
    "# accuracy values that we found when using that value of k.\n",
    "k_to_accuracies = {}\n",
    "\n",
    "for k in k_choices:\n",
    "    accuracy = []\n",
    "    for i in xrange(num_folds):\n",
    "        classifier = KNearestNeighbor()\n",
    "        \n",
    "#         print \"shape = \" + str(X_train_folds[1].shape)\n",
    "        if i == 0:\n",
    "            X_train_folds_tmp = X_train_folds[1]\n",
    "            y_train_folds_tmp = y_train_folds[1]\n",
    "        else:\n",
    "            X_train_folds_tmp = X_train_folds[0]\n",
    "            y_train_folds_tmp = y_train_folds[0]\n",
    "        \n",
    "        for j in xrange(1,num_folds):\n",
    "            if i != j:\n",
    "                X_train_folds_tmp = np.concatenate((X_train_folds_tmp,X_train_folds[j]))\n",
    "                y_train_folds_tmp = np.concatenate((y_train_folds_tmp,y_train_folds[j]))\n",
    "#         print X_train_folds_tmp.shape, y_train_folds_tmp.shape\n",
    "        classifier.train(X_train_folds_tmp, y_train_folds_tmp)\n",
    "        \n",
    "        dists = classifier.compute_distances_no_loops(X_train_folds[i])\n",
    "        y_test_pred = classifier.predict_labels(dists, k)\n",
    "        \n",
    "        num_correct = np.sum(y_test_pred == y_train_folds[i])\n",
    "        acc = float(num_correct) / float(len(y_train_folds[i]))\n",
    "        accuracy.append(acc)\n",
    "    k_to_accuracies[k] = accuracy\n",
    "\n",
    "# Check the accuracies\n",
    "for k in sorted(k_to_accuracies):\n",
    "    for accuracy in k_to_accuracies[k]:\n",
    "        print 'k = %d, accuracy = %f' % (k, accuracy)"
   ]
  },
  {
   "cell_type": "code",
   "execution_count": 15,
   "metadata": {
    "collapsed": false
   },
   "outputs": [
    {
     "data": {
      "image/png": "[encoded data removed]",
      "text/plain": [
       "<matplotlib.figure.Figure at 0x111a9cd50>"
      ]
     },
     "metadata": {},
     "output_type": "display_data"
    }
   ],
   "source": [
    "# plot the raw observations\n",
    "for k in k_choices:\n",
    "    accuracy = k_to_accuracies[k]\n",
    "    plt.scatter([k] * len(accuracy), accuracy)\n",
    "\n",
    "# plot the trend line\n",
    "accuracy_mean = np.array([np.mean(v) for k,v in sorted(k_to_accuracies.items())])\n",
    "accuracy_std = np.array([np.std(v) for k,v in sorted(k_to_accuracies.items())])\n",
    "plt.errorbar(k_choices, accuracy_mean, yerr=accuracy_std)\n",
    "plt.title('Cross-validation on k')\n",
    "plt.xlabel('k')\n",
    "plt.ylabel('Cross-validation accuracy')\n",
    "plt.show()"
   ]
  },
  {
   "cell_type": "code",
   "execution_count": 16,
   "metadata": {
    "collapsed": false
   },
   "outputs": [
    {
     "name": "stdout",
     "output_type": "stream",
     "text": [
      "Got 3118 / 10000 correct => accuracy: 0.311800\n"
     ]
    }
   ],
   "source": [
    "# Based on the cross-validation results above, choose the best value for k,   \n",
    "# retrain the classifier using all the training data, and test it on the test\n",
    "# data.\n",
    "best_k = 100\n",
    "\n",
    "X_train, y_train, X_test, y_test = load_CIFAR10(cifar10_dir)\n",
    "X_train = np.reshape(X_train,(X_train.shape[0], -1))\n",
    "X_test = np.reshape(X_test, (X_test.shape[0], -1))\n",
    "\n",
    "classifier = KNearestNeighbor()\n",
    "classifier.train(X_train, y_train)\n",
    "y_test_pred = classifier.predict(X_test, k=best_k)\n",
    "\n",
    "# Compute and display the accuracy\n",
    "num_correct = np.sum(y_test_pred == y_test)\n",
    "num_test = float(len(y_test_pred))\n",
    "accuracy = float(num_correct) / num_test\n",
    "print 'Got %d / %d correct => accuracy: %f' % (num_correct, num_test, accuracy)"
   ]
  },
  {
   "cell_type": "code",
   "execution_count": null,
   "metadata": {
    "collapsed": false
   },
   "outputs": [],
   "source": [
    "print y_test"
   ]
  },
  {
   "cell_type": "code",
   "execution_count": null,
   "metadata": {
    "collapsed": true
   },
   "outputs": [],
   "source": []
  }
 ],
 "metadata": {
  "kernelspec": {
   "display_name": "Python 2",
   "language": "python",
   "name": "python2"
  },
  "language_info": {
   "codemirror_mode": {
    "name": "ipython",
    "version": 2
   },
   "file_extension": ".py",
   "mimetype": "text/x-python",
   "name": "python",
   "nbconvert_exporter": "python",
   "pygments_lexer": "ipython2",
   "version": "2.7.11"
  }
 },
 "nbformat": 4,
 "nbformat_minor": 0
}
