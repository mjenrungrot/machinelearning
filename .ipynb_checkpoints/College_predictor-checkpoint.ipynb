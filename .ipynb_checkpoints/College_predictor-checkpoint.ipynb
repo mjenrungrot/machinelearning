{
 "cells": [
  {
   "cell_type": "markdown",
   "metadata": {},
   "source": [
    "# College Predictor"
   ]
  },
  {
   "cell_type": "markdown",
   "metadata": {},
   "source": [
    "GUI + Import"
   ]
  },
  {
   "cell_type": "code",
   "execution_count": 1,
   "metadata": {
    "collapsed": true
   },
   "outputs": [],
   "source": [
    "%gui qt"
   ]
  },
  {
   "cell_type": "code",
   "execution_count": 2,
   "metadata": {
    "collapsed": true
   },
   "outputs": [],
   "source": [
    "%gui\n",
    "%gui wx"
   ]
  },
  {
   "cell_type": "code",
   "execution_count": 3,
   "metadata": {
    "collapsed": false
   },
   "outputs": [],
   "source": [
    "import random\n",
    "import numpy as np\n",
    "import matplotlib.pyplot as plt\n",
    "import os"
   ]
  },
  {
   "cell_type": "markdown",
   "metadata": {},
   "source": [
    "Linear Regression Class"
   ]
  },
  {
   "cell_type": "code",
   "execution_count": 4,
   "metadata": {
    "collapsed": true
   },
   "outputs": [],
   "source": [
    "N_THETA = 3\n",
    "learning_rate = 0.1\n",
    "EPS = 0.000001"
   ]
  },
  {
   "cell_type": "code",
   "execution_count": 76,
   "metadata": {
    "collapsed": false
   },
   "outputs": [],
   "source": [
    "class LinearRegression:\n",
    "    def __init__(self, n_theta=N_THETA):\n",
    "        self.num_parameter = n_theta\n",
    "        self.theta = np.random.random_sample((self.num_parameter,1))\n",
    "    \n",
    "    def train(self, X, y):\n",
    "        self.X_train = X\n",
    "        self.y_train = y\n",
    "    \n",
    "    def J(self, X, theta, y):\n",
    "        \"\"\" Calculate the cost function.\n",
    "        \n",
    "            Input:\n",
    "            X - a [num_train x num_parameter] array corresponding to\n",
    "                training data\n",
    "            theta - a [num_parameter x 1] array corresponding to \n",
    "                    the weights of the regression line\n",
    "            y - a [num_train x 1] array corresponding to the expected \n",
    "                answer for each training example\n",
    "                \n",
    "            Output:\n",
    "            J(theta) - the value of the cost function\n",
    "        \"\"\"\n",
    "        ans = 0\n",
    "        num_train = X.shape[0]\n",
    "        num_parameter = self.num_parameter\n",
    "        print type(np.dot(X,theta)), type(y)\n",
    "        \n",
    "        # X - A num_train x num_parameter array\n",
    "        # theta - A num_parameter x 1 array\n",
    "        # y - A num_train x 1 array\n",
    "        ans = 0.5 * np.sum( np.square( np.dot(X,theta) - y ))\n",
    "        return ans\n",
    "\n",
    "    def partial_derivative(self,X,theta,y,interested_theta):\n",
    "        \"\"\" Calculate the derivative of the cost function with \n",
    "            respect to theta_j:\n",
    "                d/d(theta_j) J(theta) = (h_{theta}(x) - y)x_j\n",
    "                \n",
    "            Input:\n",
    "            X - a [num_train x num_parameter] array corresponding to\n",
    "                training data\n",
    "            theta - a [num_parameter x 1] array corresponding to \n",
    "                    the weights of the regression line\n",
    "            y - a [num_train x 1] array corresponding to the expected \n",
    "                answer for each training example\n",
    "            interested_theta - an index of theta that we're now interested in\n",
    "                \n",
    "            Output:\n",
    "            d/d(theta_j) J(theta) - the value of the derivative\n",
    "        \"\"\"\n",
    "        ans = np.dot(X,theta) - y;\n",
    "        ans = ans * np.array(X[:,interested_theta])\n",
    "        return ans\n",
    "        \n",
    "    def learn(self):\n",
    "        \"\"\" Learn the parameter [theta] until it converges.\n",
    "        \"\"\"\n",
    "        counter_idx = 0\n",
    "        while True:\n",
    "            for j in xrange(self.num_parameter):\n",
    "                change = np.sum(self.partial_derivative(self.X_train,self.theta,self.y_train,j))\n",
    "                self.theta[j] -= learning_rate * change\n",
    "            \n",
    "            counter_idx += 1\n",
    "            print \"At %d iteration: cost = %f\" % (counter_idx, self.J(self.X_train,self.theta,self.y_train))\n",
    "            print self.theta\n",
    "            # Note that EPS is a very small value, e.g. 1e-6.\n",
    "            if change < EPS:\n",
    "                break"
   ]
  },
  {
   "cell_type": "markdown",
   "metadata": {},
   "source": [
    "The following setting corresponds to training data."
   ]
  },
  {
   "cell_type": "code",
   "execution_count": 6,
   "metadata": {
    "collapsed": true
   },
   "outputs": [],
   "source": [
    "dataset_dir = 'TSCollegeList.csv'"
   ]
  },
  {
   "cell_type": "code",
   "execution_count": 69,
   "metadata": {
    "collapsed": true
   },
   "outputs": [],
   "source": [
    "import csv\n",
    "\n",
    "def parse_file(filename):\n",
    "    f = open(filename,'rb')\n",
    "    csv_f = csv.reader(f)\n",
    "    header = csv_f.next()\n",
    "    xs = []\n",
    "    ys = []\n",
    "    for row in csv_f:\n",
    "        X = np.array(row[:N_THETA])\n",
    "        X = X.reshape(-1,3).astype('float')\n",
    "        Y = row[N_THETA]\n",
    "        xs.append(X)\n",
    "        ys.append(Y)\n",
    "    X_train = np.concatenate(xs)\n",
    "    y_train = np.array(ys).reshape(-1,1)\n",
    "    return header, X_train, y_train\n",
    "        "
   ]
  },
  {
   "cell_type": "markdown",
   "metadata": {},
   "source": [
    "parse_file(dataset_dir)"
   ]
  },
  {
   "cell_type": "markdown",
   "metadata": {},
   "source": [
    "Run algorithm part"
   ]
  },
  {
   "cell_type": "code",
   "execution_count": 77,
   "metadata": {
    "collapsed": false,
    "scrolled": false
   },
   "outputs": [
    {
     "name": "stdout",
     "output_type": "stream",
     "text": [
      "<type 'numpy.ndarray'> <type 'numpy.ndarray'>\n"
     ]
    },
    {
     "ename": "TypeError",
     "evalue": "ufunc 'subtract' did not contain a loop with signature matching types dtype('S32') dtype('S32') dtype('S32')",
     "output_type": "error",
     "traceback": [
      "\u001b[0;31m---------------------------------------------------------------------------\u001b[0m",
      "\u001b[0;31mTypeError\u001b[0m                                 Traceback (most recent call last)",
      "\u001b[0;32m<ipython-input-77-b45ece1296ae>\u001b[0m in \u001b[0;36m<module>\u001b[0;34m()\u001b[0m\n\u001b[1;32m      8\u001b[0m \u001b[0mregression\u001b[0m\u001b[0;34m.\u001b[0m\u001b[0mtrain\u001b[0m\u001b[0;34m(\u001b[0m\u001b[0mX_train\u001b[0m\u001b[0;34m,\u001b[0m\u001b[0my_train\u001b[0m\u001b[0;34m)\u001b[0m\u001b[0;34m\u001b[0m\u001b[0m\n\u001b[1;32m      9\u001b[0m \u001b[0;34m\u001b[0m\u001b[0m\n\u001b[0;32m---> 10\u001b[0;31m \u001b[0mval1\u001b[0m \u001b[0;34m=\u001b[0m \u001b[0mregression\u001b[0m\u001b[0;34m.\u001b[0m\u001b[0mJ\u001b[0m\u001b[0;34m(\u001b[0m\u001b[0mregression\u001b[0m\u001b[0;34m.\u001b[0m\u001b[0mX_train\u001b[0m\u001b[0;34m,\u001b[0m \u001b[0mregression\u001b[0m\u001b[0;34m.\u001b[0m\u001b[0mtheta\u001b[0m\u001b[0;34m,\u001b[0m \u001b[0mregression\u001b[0m\u001b[0;34m.\u001b[0m\u001b[0my_train\u001b[0m\u001b[0;34m)\u001b[0m\u001b[0;34m\u001b[0m\u001b[0m\n\u001b[0m\u001b[1;32m     11\u001b[0m \u001b[0;32mprint\u001b[0m \u001b[0mval1\u001b[0m\u001b[0;34m\u001b[0m\u001b[0m\n\u001b[1;32m     12\u001b[0m \u001b[0;34m\u001b[0m\u001b[0m\n",
      "\u001b[0;32m<ipython-input-76-620e3505058e>\u001b[0m in \u001b[0;36mJ\u001b[0;34m(self, X, theta, y)\u001b[0m\n\u001b[1;32m     30\u001b[0m         \u001b[0;31m# theta - A num_parameter x 1 array\u001b[0m\u001b[0;34m\u001b[0m\u001b[0;34m\u001b[0m\u001b[0m\n\u001b[1;32m     31\u001b[0m         \u001b[0;31m# y - A num_train x 1 array\u001b[0m\u001b[0;34m\u001b[0m\u001b[0;34m\u001b[0m\u001b[0m\n\u001b[0;32m---> 32\u001b[0;31m         \u001b[0mans\u001b[0m \u001b[0;34m=\u001b[0m \u001b[0;36m0.5\u001b[0m \u001b[0;34m*\u001b[0m \u001b[0mnp\u001b[0m\u001b[0;34m.\u001b[0m\u001b[0msum\u001b[0m\u001b[0;34m(\u001b[0m \u001b[0mnp\u001b[0m\u001b[0;34m.\u001b[0m\u001b[0msquare\u001b[0m\u001b[0;34m(\u001b[0m \u001b[0mnp\u001b[0m\u001b[0;34m.\u001b[0m\u001b[0mdot\u001b[0m\u001b[0;34m(\u001b[0m\u001b[0mX\u001b[0m\u001b[0;34m,\u001b[0m\u001b[0mtheta\u001b[0m\u001b[0;34m)\u001b[0m \u001b[0;34m-\u001b[0m \u001b[0my\u001b[0m \u001b[0;34m)\u001b[0m\u001b[0;34m)\u001b[0m\u001b[0;34m\u001b[0m\u001b[0m\n\u001b[0m\u001b[1;32m     33\u001b[0m         \u001b[0;32mreturn\u001b[0m \u001b[0mans\u001b[0m\u001b[0;34m\u001b[0m\u001b[0m\n\u001b[1;32m     34\u001b[0m \u001b[0;34m\u001b[0m\u001b[0m\n",
      "\u001b[0;31mTypeError\u001b[0m: ufunc 'subtract' did not contain a loop with signature matching types dtype('S32') dtype('S32') dtype('S32')"
     ]
    }
   ],
   "source": [
    "header, X_train, y_train = parse_file(dataset_dir)\n",
    "\n",
    "# print type(X_train), type(y_train)\n",
    "# print y_train\n",
    "# print X_train.shape, y_train.shape\n",
    "\n",
    "regression = LinearRegression()\n",
    "regression.train(X_train,y_train)\n",
    "\n",
    "val1 = regression.J(regression.X_train, regression.theta, regression.y_train)\n",
    "print val1\n",
    "\n",
    "regression.learn()\n",
    "for i in xrange(len(header)-1):\n",
    "    print header[i], \": \",regression.theta[i]"
   ]
  },
  {
   "cell_type": "code",
   "execution_count": null,
   "metadata": {
    "collapsed": false
   },
   "outputs": [],
   "source": [
    "regression.learn()"
   ]
  },
  {
   "cell_type": "code",
   "execution_count": null,
   "metadata": {
    "collapsed": false
   },
   "outputs": [],
   "source": [
    "type(np.array(0))"
   ]
  },
  {
   "cell_type": "code",
   "execution_count": null,
   "metadata": {
    "collapsed": false
   },
   "outputs": [],
   "source": [
    "np.array([1,2,3]) * np.array([4,5,6])"
   ]
  },
  {
   "cell_type": "code",
   "execution_count": null,
   "metadata": {
    "collapsed": false
   },
   "outputs": [],
   "source": [
    "np.array([[1,2],[3,4],[5,6]])[:,2]"
   ]
  },
  {
   "cell_type": "code",
   "execution_count": 26,
   "metadata": {
    "collapsed": false
   },
   "outputs": [
    {
     "data": {
      "text/plain": [
       "array([[ 0.82598244],\n",
       "       [ 0.02704737],\n",
       "       [ 0.688842  ]])"
      ]
     },
     "execution_count": 26,
     "metadata": {},
     "output_type": "execute_result"
    }
   ],
   "source": [
    "np.random.random_sample((3,1))"
   ]
  },
  {
   "cell_type": "code",
   "execution_count": null,
   "metadata": {
    "collapsed": true
   },
   "outputs": [],
   "source": []
  }
 ],
 "metadata": {
  "kernelspec": {
   "display_name": "Python 2",
   "language": "python",
   "name": "python2"
  },
  "language_info": {
   "codemirror_mode": {
    "name": "ipython",
    "version": 2
   },
   "file_extension": ".py",
   "mimetype": "text/x-python",
   "name": "python",
   "nbconvert_exporter": "python",
   "pygments_lexer": "ipython2",
   "version": "2.7.11"
  }
 },
 "nbformat": 4,
 "nbformat_minor": 0
}
